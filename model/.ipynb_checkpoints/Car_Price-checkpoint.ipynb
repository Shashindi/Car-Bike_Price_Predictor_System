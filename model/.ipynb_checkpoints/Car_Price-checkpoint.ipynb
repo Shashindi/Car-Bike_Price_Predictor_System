{
 "cells": [
  {
   "cell_type": "code",
   "execution_count": 1,
   "id": "dc0c2eb7-8a5b-49c6-9392-6c3581f50e41",
   "metadata": {},
   "outputs": [],
   "source": [
    "import pandas as pd\n",
    "import numpy as np"
   ]
  },
  {
   "cell_type": "code",
   "execution_count": 2,
   "id": "dcafd804-c2c4-458d-a675-9bfa7c32eb45",
   "metadata": {},
   "outputs": [],
   "source": [
    "df = pd.read_csv(\"car data.csv\")"
   ]
  },
  {
   "cell_type": "code",
   "execution_count": 3,
   "id": "13aa96b6-b5f5-44ff-9354-b202645794c1",
   "metadata": {},
   "outputs": [
    {
     "data": {
      "text/html": [
       "<div>\n",
       "<style scoped>\n",
       "    .dataframe tbody tr th:only-of-type {\n",
       "        vertical-align: middle;\n",
       "    }\n",
       "\n",
       "    .dataframe tbody tr th {\n",
       "        vertical-align: top;\n",
       "    }\n",
       "\n",
       "    .dataframe thead th {\n",
       "        text-align: right;\n",
       "    }\n",
       "</style>\n",
       "<table border=\"1\" class=\"dataframe\">\n",
       "  <thead>\n",
       "    <tr style=\"text-align: right;\">\n",
       "      <th></th>\n",
       "      <th>Car_Name</th>\n",
       "      <th>Year</th>\n",
       "      <th>Selling_Price</th>\n",
       "      <th>Present_Price</th>\n",
       "      <th>Kms_Driven</th>\n",
       "      <th>Fuel_Type</th>\n",
       "      <th>Seller_Type</th>\n",
       "      <th>Transmission</th>\n",
       "      <th>Owner</th>\n",
       "    </tr>\n",
       "  </thead>\n",
       "  <tbody>\n",
       "    <tr>\n",
       "      <th>277</th>\n",
       "      <td>city</td>\n",
       "      <td>2015</td>\n",
       "      <td>9.70</td>\n",
       "      <td>13.600</td>\n",
       "      <td>21780</td>\n",
       "      <td>Petrol</td>\n",
       "      <td>Dealer</td>\n",
       "      <td>Manual</td>\n",
       "      <td>0</td>\n",
       "    </tr>\n",
       "    <tr>\n",
       "      <th>265</th>\n",
       "      <td>jazz</td>\n",
       "      <td>2017</td>\n",
       "      <td>6.50</td>\n",
       "      <td>8.700</td>\n",
       "      <td>21200</td>\n",
       "      <td>Petrol</td>\n",
       "      <td>Dealer</td>\n",
       "      <td>Manual</td>\n",
       "      <td>0</td>\n",
       "    </tr>\n",
       "    <tr>\n",
       "      <th>260</th>\n",
       "      <td>city</td>\n",
       "      <td>2016</td>\n",
       "      <td>9.15</td>\n",
       "      <td>13.600</td>\n",
       "      <td>29223</td>\n",
       "      <td>Petrol</td>\n",
       "      <td>Dealer</td>\n",
       "      <td>Manual</td>\n",
       "      <td>0</td>\n",
       "    </tr>\n",
       "    <tr>\n",
       "      <th>237</th>\n",
       "      <td>creta</td>\n",
       "      <td>2015</td>\n",
       "      <td>11.25</td>\n",
       "      <td>13.600</td>\n",
       "      <td>68000</td>\n",
       "      <td>Diesel</td>\n",
       "      <td>Dealer</td>\n",
       "      <td>Manual</td>\n",
       "      <td>0</td>\n",
       "    </tr>\n",
       "    <tr>\n",
       "      <th>146</th>\n",
       "      <td>Hero Extreme</td>\n",
       "      <td>2014</td>\n",
       "      <td>0.55</td>\n",
       "      <td>0.787</td>\n",
       "      <td>15000</td>\n",
       "      <td>Petrol</td>\n",
       "      <td>Individual</td>\n",
       "      <td>Manual</td>\n",
       "      <td>0</td>\n",
       "    </tr>\n",
       "  </tbody>\n",
       "</table>\n",
       "</div>"
      ],
      "text/plain": [
       "         Car_Name  Year  Selling_Price  Present_Price  Kms_Driven Fuel_Type  \\\n",
       "277          city  2015           9.70         13.600       21780    Petrol   \n",
       "265          jazz  2017           6.50          8.700       21200    Petrol   \n",
       "260          city  2016           9.15         13.600       29223    Petrol   \n",
       "237         creta  2015          11.25         13.600       68000    Diesel   \n",
       "146  Hero Extreme  2014           0.55          0.787       15000    Petrol   \n",
       "\n",
       "    Seller_Type Transmission  Owner  \n",
       "277      Dealer       Manual      0  \n",
       "265      Dealer       Manual      0  \n",
       "260      Dealer       Manual      0  \n",
       "237      Dealer       Manual      0  \n",
       "146  Individual       Manual      0  "
      ]
     },
     "execution_count": 3,
     "metadata": {},
     "output_type": "execute_result"
    }
   ],
   "source": [
    "df.sample(5)"
   ]
  },
  {
   "cell_type": "code",
   "execution_count": 4,
   "id": "d7522a26-4e95-40f6-9a29-7155f9536615",
   "metadata": {},
   "outputs": [
    {
     "data": {
      "text/plain": [
       "(301, 9)"
      ]
     },
     "execution_count": 4,
     "metadata": {},
     "output_type": "execute_result"
    }
   ],
   "source": [
    "df.shape"
   ]
  },
  {
   "cell_type": "code",
   "execution_count": 5,
   "id": "838f3086-bec6-47d7-8d3a-ca3de228979b",
   "metadata": {},
   "outputs": [
    {
     "data": {
      "text/plain": [
       "np.False_"
      ]
     },
     "execution_count": 5,
     "metadata": {},
     "output_type": "execute_result"
    }
   ],
   "source": [
    "df.isna().values.any()"
   ]
  },
  {
   "cell_type": "code",
   "execution_count": 6,
   "id": "2d23f7a0-2d5a-4696-b695-527a31b6a359",
   "metadata": {},
   "outputs": [
    {
     "name": "stdout",
     "output_type": "stream",
     "text": [
      "Fuel Type:  ['Petrol' 'Diesel' 'CNG']\n",
      "Seller Type:  ['Dealer' 'Individual']\n",
      "Transmission:  ['Manual' 'Automatic']\n",
      "Owner:  [0 1 3]\n"
     ]
    }
   ],
   "source": [
    "print(\"Fuel Type: \", df.Fuel_Type.unique())\n",
    "print(\"Seller Type: \", df.Seller_Type.unique())\n",
    "print(\"Transmission: \", df.Transmission.unique())\n",
    "print(\"Owner: \", df.Owner.unique())"
   ]
  },
  {
   "cell_type": "code",
   "execution_count": 7,
   "id": "f022d25a-c40b-4ef5-a9e5-c82cffd10a8b",
   "metadata": {},
   "outputs": [],
   "source": [
    "from datetime import datetime\n",
    "\n",
    "df[\"Current_year\"] = datetime.now().year\n",
    "\n",
    "df[\"Year\"] = df.Current_year - df.Year"
   ]
  },
  {
   "cell_type": "code",
   "execution_count": 8,
   "id": "69fd064f-a0bd-4f1f-8709-c3f8e79e9931",
   "metadata": {},
   "outputs": [],
   "source": [
    "df.drop(columns=\"Current_year\", axis = 1, inplace = True)"
   ]
  },
  {
   "cell_type": "code",
   "execution_count": 9,
   "id": "4b161c86-ad7b-4b59-9d2d-84e376bdab39",
   "metadata": {},
   "outputs": [],
   "source": [
    "dummy = pd.get_dummies(df[[\"Fuel_Type\", \"Seller_Type\", \"Transmission\"]], drop_first = True)\n",
    "\n",
    "df = pd.concat( [df, dummy], axis = 1)\n",
    "\n",
    "df.drop(columns = [\"Fuel_Type\", \"Seller_Type\", \"Transmission\"], inplace = True)"
   ]
  },
  {
   "cell_type": "code",
   "execution_count": 10,
   "id": "db8874e6-8530-4d28-88f3-b106e65b512c",
   "metadata": {},
   "outputs": [
    {
     "data": {
      "image/png": "[encoded data removed]",
      "text/plain": [
       "<Figure size 1000x600 with 2 Axes>"
      ]
     },
     "metadata": {},
     "output_type": "display_data"
    }
   ],
   "source": [
    "import matplotlib.pyplot as plt\n",
    "import seaborn as sns\n",
    "%matplotlib inline\n",
    "\n",
    "plt.figure(figsize = (10, 6))\n",
    "sns.heatmap(df.select_dtypes(include=['number']).corr(), annot=True)\n",
    "plt.show()"
   ]
  },
  {
   "cell_type": "code",
   "execution_count": 11,
   "id": "96931941-ccf4-4d2e-a3e7-b8fb24ff1d99",
   "metadata": {},
   "outputs": [],
   "source": [
    "df.Car_Name = df.Car_Name.str.lower()\n",
    "\n",
    "dummy = pd.get_dummies(df.Car_Name, drop_first = True)\n",
    "df = pd.concat([df, dummy], axis = 1)\n",
    "df.drop(\"Car_Name\", axis = 1, inplace = True)"
   ]
  },
  {
   "cell_type": "code",
   "execution_count": 12,
   "id": "c7a8a3d7-9a31-4ef3-b6fa-0ffd18aba0e2",
   "metadata": {},
   "outputs": [],
   "source": [
    "X = df.drop(columns=\"Selling_Price\")\n",
    "y = df.Selling_Price"
   ]
  },
  {
   "cell_type": "code",
   "execution_count": 13,
   "id": "fcf5a5b6-05f5-4da2-a018-c0b54b6810d7",
   "metadata": {},
   "outputs": [],
   "source": [
    "from sklearn.ensemble import ExtraTreesRegressor\n",
    "\n",
    "etr = ExtraTreesRegressor()\n",
    "etr.fit(X, y)\n",
    "important_features = etr.feature_importances_"
   ]
  },
  {
   "cell_type": "code",
   "execution_count": 14,
   "id": "9ef1b006-697b-484c-b105-5c18b01cebc4",
   "metadata": {},
   "outputs": [
    {
     "data": {
      "image/png": "[encoded data removed]",
      "text/plain": [
       "<Figure size 1000x600 with 1 Axes>"
      ]
     },
     "metadata": {},
     "output_type": "display_data"
    }
   ],
   "source": [
    "important_features = pd.Series(important_features, index = X.columns).sort_values(ascending = False)\n",
    "\n",
    "plt.figure(figsize = (10, 6))\n",
    "important_features[:5].plot(kind = \"barh\")\n",
    "plt.title(\"Top 5 Important Feature\")\n",
    "\n",
    "plt.show()"
   ]
  },
  {
   "cell_type": "code",
   "execution_count": 15,
   "id": "be753b46-9c5f-4b37-aa0b-9ecbf1b17ed9",
   "metadata": {},
   "outputs": [],
   "source": [
    "from sklearn.model_selection import train_test_split\n",
    "\n",
    "X_train, X_test, y_train, y_test = train_test_split(X, y, test_size = 0.20)"
   ]
  },
  {
   "cell_type": "code",
   "execution_count": 17,
   "id": "3702c2c7-f7f7-4dcf-b0a8-0986ce1b18f2",
   "metadata": {},
   "outputs": [],
   "source": [
    "\n",
    "from sklearn.linear_model import LinearRegression\n",
    "from sklearn.tree import DecisionTreeRegressor\n",
    "from sklearn.ensemble import RandomForestRegressor\n",
    "import numpy as np\n",
    "\n",
    "algos = {\n",
    "    \"Linear Regression\": {\n",
    "        \"model\": LinearRegression(),\n",
    "        \"param\": {\n",
    "            \"fit_intercept\": [True, False]\n",
    "        }\n",
    "    },\n",
    "    \"Decision Tree\": {\n",
    "        \"model\": DecisionTreeRegressor(),\n",
    "        \"param\": {\n",
    "            \"criterion\": [\"squared_error\", \"friedman_mse\"],  # 'mse' renamed to 'squared_error' in sklearn 1.0+\n",
    "            \"splitter\": [\"best\", \"random\"]\n",
    "        }\n",
    "    },\n",
    "    \"Random Forest\": {\n",
    "        \"model\": RandomForestRegressor(),\n",
    "        \"param\": {\n",
    "            \"n_estimators\": [int(x) for x in np.linspace(100, 1200, 12)],\n",
    "            \"max_features\": [\"sqrt\", \"log2\"],  # 'auto' removed in latest versions\n",
    "            \"max_depth\": [int(x) for x in np.linspace(5, 30, 6)],\n",
    "            \"min_samples_split\": [2, 5, 10, 15, 100],\n",
    "            \"min_samples_leaf\": [1, 2, 5, 10]\n",
    "        }\n",
    "    }\n",
    "}\n"
   ]
  },
  {
   "cell_type": "code",
   "execution_count": 18,
   "id": "1d057c21-1701-48b3-af72-32086baf04c2",
   "metadata": {},
   "outputs": [
    {
     "name": "stderr",
     "output_type": "stream",
     "text": [
      "/opt/anaconda3/lib/python3.13/site-packages/sklearn/model_selection/_search.py:317: UserWarning: The total space of parameters 2 is smaller than n_iter=10. Running 2 iterations. For exhaustive searches, use GridSearchCV.\n",
      "  warnings.warn(\n",
      "/opt/anaconda3/lib/python3.13/site-packages/sklearn/model_selection/_search.py:317: UserWarning: The total space of parameters 4 is smaller than n_iter=10. Running 4 iterations. For exhaustive searches, use GridSearchCV.\n",
      "  warnings.warn(\n"
     ]
    },
    {
     "data": {
      "text/html": [
       "<div>\n",
       "<style scoped>\n",
       "    .dataframe tbody tr th:only-of-type {\n",
       "        vertical-align: middle;\n",
       "    }\n",
       "\n",
       "    .dataframe tbody tr th {\n",
       "        vertical-align: top;\n",
       "    }\n",
       "\n",
       "    .dataframe thead th {\n",
       "        text-align: right;\n",
       "    }\n",
       "</style>\n",
       "<table border=\"1\" class=\"dataframe\">\n",
       "  <thead>\n",
       "    <tr style=\"text-align: right;\">\n",
       "      <th></th>\n",
       "      <th>Model</th>\n",
       "      <th>Best Parameters</th>\n",
       "      <th>Best Score</th>\n",
       "    </tr>\n",
       "  </thead>\n",
       "  <tbody>\n",
       "    <tr>\n",
       "      <th>0</th>\n",
       "      <td>Linear Regression</td>\n",
       "      <td>{'fit_intercept': True}</td>\n",
       "      <td>0.245403</td>\n",
       "    </tr>\n",
       "    <tr>\n",
       "      <th>1</th>\n",
       "      <td>Decision Tree</td>\n",
       "      <td>{'splitter': 'best', 'criterion': 'squared_err...</td>\n",
       "      <td>0.941264</td>\n",
       "    </tr>\n",
       "    <tr>\n",
       "      <th>2</th>\n",
       "      <td>Random Forest</td>\n",
       "      <td>{'n_estimators': 1200, 'min_samples_split': 5,...</td>\n",
       "      <td>0.886302</td>\n",
       "    </tr>\n",
       "  </tbody>\n",
       "</table>\n",
       "</div>"
      ],
      "text/plain": [
       "               Model                                    Best Parameters  \\\n",
       "0  Linear Regression                            {'fit_intercept': True}   \n",
       "1      Decision Tree  {'splitter': 'best', 'criterion': 'squared_err...   \n",
       "2      Random Forest  {'n_estimators': 1200, 'min_samples_split': 5,...   \n",
       "\n",
       "   Best Score  \n",
       "0    0.245403  \n",
       "1    0.941264  \n",
       "2    0.886302  "
      ]
     },
     "execution_count": 18,
     "metadata": {},
     "output_type": "execute_result"
    }
   ],
   "source": [
    "from sklearn.model_selection import RandomizedSearchCV\n",
    "\n",
    "best_models = {}\n",
    "scores = []\n",
    "for model_name, values in algos.items():\n",
    "    model_tunning = RandomizedSearchCV(values[\"model\"], values[\"param\"], n_iter=10, cv = 5, n_jobs = -1)\n",
    "    model_tunning.fit(X_train, y_train)\n",
    "    \n",
    "    best_models[model_name] = model_tunning\n",
    "    scores.append({\n",
    "        \"Model\": model_name,\n",
    "        \"Best Parameters\": model_tunning.best_params_,\n",
    "        \"Best Score\": model_tunning.best_score_\n",
    "    })\n",
    "    \n",
    "pd.DataFrame(scores)"
   ]
  },
  {
   "cell_type": "code",
   "execution_count": 19,
   "id": "2d15eb00-fc51-4076-8a1b-b8a8ba19fe0a",
   "metadata": {},
   "outputs": [
    {
     "name": "stdout",
     "output_type": "stream",
     "text": [
      "Linear Regression  :  0.48489090629554177\n",
      "Decision Tree  :  0.8466637492828489\n",
      "Random Forest  :  0.6309466747436552\n"
     ]
    }
   ],
   "source": [
    "for name, model in best_models.items():\n",
    "    print(name, \" : \", model.score(X_test, y_test))"
   ]
  },
  {
   "cell_type": "code",
   "execution_count": 20,
   "id": "eafe60ee-fd1c-42f7-9023-7f4dcde8b9a9",
   "metadata": {},
   "outputs": [],
   "source": [
    "final_model = best_models[\"Random Forest\"]"
   ]
  },
  {
   "cell_type": "code",
   "execution_count": 21,
   "id": "51e74f0e-243e-4465-9c48-7261c874cb1f",
   "metadata": {},
   "outputs": [],
   "source": [
    "def predict_price(year, present_price, kms, owner, diesel, petrol, individual, manual, vehicle):\n",
    "    vehicle_index = np.where(X.columns == vehicle.lower())[0][0]\n",
    "    X_pred = np.zeros_like(X.columns)\n",
    "    \n",
    "    feature_list = [year, present_price, kms, owner, diesel, petrol, individual, manual]\n",
    "    count = 0\n",
    "    for f in feature_list:\n",
    "        X_pred[count] = f\n",
    "        count += 1\n",
    "    \n",
    "    if vehicle_index > 0:\n",
    "        X_pred[vehicle_index] = 1\n",
    "    \n",
    "    result = final_model.predict([X_pred])\n",
    "    \n",
    "    return result"
   ]
  },
  {
   "cell_type": "code",
   "execution_count": 23,
   "id": "f411fa50-3cf6-497a-91f3-680648b60cd4",
   "metadata": {},
   "outputs": [
    {
     "data": {
      "text/plain": [
       "array([7.48564168])"
      ]
     },
     "execution_count": 23,
     "metadata": {},
     "output_type": "execute_result"
    }
   ],
   "source": [
    "import warnings\n",
    "warnings.filterwarnings(\"ignore\", category=UserWarning)\n",
    "\n",
    "predict_price(7, 9.54, 43000, 0, 1, 0, 0, 1, \"sx4\")"
   ]
  },
  {
   "cell_type": "code",
   "execution_count": 26,
   "id": "2e26ce02-dff8-4192-ab70-6726e8021a7d",
   "metadata": {},
   "outputs": [],
   "source": [
    "import pickle\n",
    "\n",
    "with open(\"model.pkl\", \"wb\") as f:\n",
    "    pickle.dump(final_model, f)"
   ]
  },
  {
   "cell_type": "code",
   "execution_count": 27,
   "id": "ff5d3224-cc69-460c-a9e5-2c7b456b3322",
   "metadata": {},
   "outputs": [],
   "source": [
    "import json\n",
    "\n",
    "column_dict = {\"data_columns\": X.columns.to_list()}\n",
    "\n",
    "with open(\"columns.json\", \"w\") as f:\n",
    "    json.dump(column_dict, f)"
   ]
  },
  {
   "cell_type": "code",
   "execution_count": null,
   "id": "ffdf6d0b-0991-4ab4-ae23-65251c8c8c05",
   "metadata": {},
   "outputs": [],
   "source": []
  }
 ],
 "metadata": {
  "kernelspec": {
   "display_name": "Python 3 (ipykernel)",
   "language": "python",
   "name": "python3"
  },
  "language_info": {
   "codemirror_mode": {
    "name": "ipython",
    "version": 3
   },
   "file_extension": ".py",
   "mimetype": "text/x-python",
   "name": "python",
   "nbconvert_exporter": "python",
   "pygments_lexer": "ipython3",
   "version": "3.13.5"
  }
 },
 "nbformat": 4,
 "nbformat_minor": 5
}
